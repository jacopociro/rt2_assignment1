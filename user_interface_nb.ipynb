{
 "cells": [
  {
   "cell_type": "code",
   "execution_count": 1,
   "id": "db415da4",
   "metadata": {},
   "outputs": [],
   "source": [
    "\n",
    "import rospy\n",
    "import time\n",
    "import jupyros as jr\n",
    "import matplotlib\n",
    "import ipywidgets as widgets\n",
    "import matplotlib.pyplot as plt\n",
    "import numpy as np\n",
    "import math\n",
    "import actionlib\n",
    "import actionlib.msg\n",
    "\n",
    "%matplotlib widget\n",
    "\n",
    "from matplotlib.animation import FuncAnimation\n",
    "from nav_msgs.msg import Odometry\n",
    "from matplotlib import animation, rc\n",
    "from std_msgs.msg import String, Float64, Bool, Float32\n",
    "from rt2_assignment1.srv import Command\n",
    "from ipywidgets import interact,interactive,fixed,interact_manual\n",
    "from geometry_msgs.msg import Twist"
   ]
  },
  {
   "cell_type": "code",
   "execution_count": 2,
   "id": "eaa217e7",
   "metadata": {},
   "outputs": [],
   "source": [
    "rospy.init_node('user_interface')\n",
    "client=rospy.ServiceProxy('/user_interface', Command)\n",
    "Vel_Publisher = rospy.Publisher('/vel', Twist, queue_size = 1)\n",
    "Command_Publisher = rospy.Publisher('/cmd_vel', Twist, queue_size = 1)\n",
    "velocity = Twist()\n",
    "speed = Twist()\n",
    "starting_time = time.time()\n",
    "finished = interrupted = 0\n",
    "t = []\n",
    "t1 = []\n",
    "x = []\n",
    "y = []\n",
    "vel_lin_cmd = []\n",
    "vel_ang_cmd = []\n",
    "vel_lin_speed = []\n",
    "vel_ang_speed = []\n",
    "stats= [0,0]\n",
    "Vel_linear = 0\n",
    "Vel_angular = 0"
   ]
  },
  {
   "cell_type": "code",
   "execution_count": 3,
   "id": "7b73fa2d",
   "metadata": {},
   "outputs": [],
   "source": [
    "def Random_start(r):\n",
    "    global random_behaviour\n",
    "    random_behaviour = True\n",
    "    client('start')\n",
    "\n",
    "def Random_stop(r):\n",
    "    global random_behaviour\n",
    "    random_behaviour = False\n",
    "    client('stop')\n",
    "\n",
    "def Onwards(t):\n",
    "    global random_behaviour, speed, velocity\n",
    "    if random_behaviour:\n",
    "        random_behaviour = False\n",
    "        client('stop')\n",
    "    Stop(1)\n",
    "    velocity.linear.x = speed.linear.x\n",
    "\n",
    "    Command_Publisher.publish(velocity)\n",
    "    \n",
    "def Backwards(t):\n",
    "    global random_behaviour, speed, velocity\n",
    "    if random_behaviour:\n",
    "        random_behaviour = False\n",
    "        client('stop')\n",
    "    Stop(1)\n",
    "    velocity.linear.x = - speed.linear.x\n",
    "\n",
    "    Command_Publisher.publish(velocity)\n",
    "\n",
    "def leftwards(t):\n",
    "    global random_behaviour, speed, velocity\n",
    "    if random_behaviour:\n",
    "        random_behaviour = False\n",
    "        client('stop')\n",
    "    Stop(1)\n",
    "    velocity.angular.z = - speed.angular.z\n",
    "\n",
    "    Command_Publisher.publish(velocity)\n",
    "\n",
    "def rightwards(t):\n",
    "    global random_behaviour, speed, velocity\n",
    "    if random_behaviour:\n",
    "        random_behaviour = False\n",
    "        client('stop')\n",
    "    Stop(1)\n",
    "    velocity.angular.z = speed.angular.z\n",
    "\n",
    "    Command_Publisher.publish(velocity)\n",
    "\n",
    "def Stop(s):\n",
    "    velocity.linear.x = 0\n",
    "    velocity.angular.z = 0\n",
    "    Command_Publisher.publish(velocity)\n",
    "\n",
    "def Set_Linear_Velocity(vel):\n",
    "    global speed\n",
    "    speed.linear.x = vel\n",
    "    Vel_Publisher.publish(speed)\n",
    "    return vel\n",
    "\n",
    "def Set_Angular_Velocity(vel):\n",
    "    global speed\n",
    "    speed.angular.z = vel\n",
    "    Vel_Publisher.publish(speed)\n",
    "    return vel"
   ]
  },
  {
   "cell_type": "code",
   "execution_count": 4,
   "id": "198adcc6",
   "metadata": {},
   "outputs": [],
   "source": [
    "Button_rand_go=widgets.Button(\n",
    "    description='Start Random Behaviour',\n",
    "    style=widgets.ButtonStyle(button_color='blue'),\n",
    "    layout=widgets.Layout(width='auto', grid_area='but_rand_go')\n",
    ")\n",
    "\n",
    "Button_rand_stop=widgets.Button(\n",
    "    description='Stop Random Behaviour',\n",
    "    style=widgets.ButtonStyle(button_color='purple'),\n",
    "    layout=widgets.Layout(width='auto', grid_area='but_rand_stop')\n",
    ")\n",
    "\n",
    "Button_onwards=widgets.Button(\n",
    "    description='Onwards',\n",
    "    style=widgets.ButtonStyle(button_color='pink'),\n",
    "    layout=widgets.Layout(width='auto', grid_area='but_onwards')\n",
    ")\n",
    "\n",
    "Button_backwards=widgets.Button(\n",
    "    description='Backwards',\n",
    "    style=widgets.ButtonStyle(button_color='pink'),\n",
    "    layout=widgets.Layout(width='auto', grid_area='but_backwards')\n",
    ")\n",
    "\n",
    "Button_Leftwards=widgets.Button(\n",
    "    description='Left',\n",
    "    style=widgets.ButtonStyle(button_color='pink'),\n",
    "    layout=widgets.Layout(width='auto', grid_area='but_left')\n",
    ")\n",
    "\n",
    "Button_Rightwards=widgets.Button(\n",
    "    description='Right',\n",
    "    style=widgets.ButtonStyle(button_color='pink'),\n",
    "    layout=widgets.Layout(width='auto', grid_area='but_right')\n",
    ")\n",
    "\n",
    "Button_stop=widgets.Button(\n",
    "    description='Stop',\n",
    "    style=widgets.ButtonStyle(button_color='red'),\n",
    "    layout=widgets.Layout(width='auto', grid_area='but_stop')\n",
    ")\n"
   ]
  },
  {
   "cell_type": "code",
   "execution_count": 5,
   "id": "e6983a62",
   "metadata": {},
   "outputs": [],
   "source": [
    "Button_rand_go.on_click(Random_start)\n",
    "Button_rand_stop.on_click(Random_stop)\n",
    "Button_onwards.on_click(Onwards)\n",
    "Button_backwards.on_click(Backwards)\n",
    "Button_Leftwards.on_click(leftwards)\n",
    "Button_Rightwards.on_click(rightwards)\n",
    "Button_stop.on_click(Stop)"
   ]
  },
  {
   "cell_type": "code",
   "execution_count": 6,
   "id": "65b8341b",
   "metadata": {
    "scrolled": true
   },
   "outputs": [
    {
     "name": "stdout",
     "output_type": "stream",
     "text": [
      "Linear Velocity Value\n"
     ]
    },
    {
     "data": {
      "application/vnd.jupyter.widget-view+json": {
       "model_id": "56433ae0baee4d1880a07ccc0f2e241c",
       "version_major": 2,
       "version_minor": 0
      },
      "text/plain": [
       "interactive(children=(FloatSlider(value=0.5, description='vel', max=1.0, step=0.01), Output()), _dom_classes=(…"
      ]
     },
     "metadata": {},
     "output_type": "display_data"
    },
    {
     "name": "stdout",
     "output_type": "stream",
     "text": [
      "Angular Velocity Value\n"
     ]
    },
    {
     "data": {
      "application/vnd.jupyter.widget-view+json": {
       "model_id": "3ccce7339d3a4abeae4df2de89dc1131",
       "version_major": 2,
       "version_minor": 0
      },
      "text/plain": [
       "interactive(children=(FloatSlider(value=0.5, description='vel', max=1.0, step=0.01), Output()), _dom_classes=(…"
      ]
     },
     "metadata": {},
     "output_type": "display_data"
    },
    {
     "data": {
      "application/vnd.jupyter.widget-view+json": {
       "model_id": "49fc7b90590b4bf98dd5bd2fa00bc61b",
       "version_major": 2,
       "version_minor": 0
      },
      "text/plain": [
       "GridBox(children=(Button(description='Start Random Behaviour', layout=Layout(grid_area='but_rand_go', width='a…"
      ]
     },
     "metadata": {},
     "output_type": "display_data"
    }
   ],
   "source": [
    "print(\"Linear Velocity Value\")\n",
    "interact(Set_Linear_Velocity, vel =widgets.FloatSlider(min=0.0, max=1.0, step=0.01, value=0.5))\n",
    "\n",
    "print(\"Angular Velocity Value\")\n",
    "interact(Set_Angular_Velocity, vel =widgets.FloatSlider(min=0.0, max=1.0, step=0.01, value=0.5))\n",
    "\n",
    "widgets.GridBox(children=[Button_rand_go, Button_rand_stop, Button_onwards, Button_backwards, Button_Leftwards, Button_Rightwards, Button_stop],\n",
    "                layout=widgets.Layout(width='80%',grid_template_rows='auto auto',\n",
    "                grid_template_columns='32% 16% 16% 16% 16% ',\n",
    "                grid_template_areas='''\"but_rand_go . . but_onwards but_stop \"\"but_rand_stop . but_left but_backwards but_right \"''')\n",
    "               )"
   ]
  },
  {
   "cell_type": "code",
   "execution_count": 7,
   "id": "1d231241",
   "metadata": {},
   "outputs": [],
   "source": [
    "from tf import transformations\n",
    "\n",
    "\n",
    "\n",
    "def normalize_angle(angle):\n",
    "    if(math.fabs(angle) > math.pi):\n",
    "        angle = angle - (2 * math.pi * angle) / (math.fabs(angle))\n",
    "    return angle\n",
    "\n",
    "def clbk_odom(msg):\n",
    "    global position_\n",
    "    global yaw_\n",
    "    global t1, time_elapsed, x, y, vel_lin_cmd, vel_lin_speed, vel_ang_cmd, vel_ang_speed, dir_x, dir_y\n",
    "    time_elapsed = time.time() - starting_time\n",
    "\n",
    "    if len(t1)>500:\n",
    "        t1.pop(0)\n",
    "        x.pop(0)\n",
    "        y.pop(0)\n",
    "        vel_lin_cmd.pop(0)\n",
    "        vel_lin_speed.pop(0)\n",
    "        vel_ang_cmd.pop(0)\n",
    "        vel_ang_speed.pop(0)\n",
    "    # position\n",
    "    position_ = msg.pose.pose.position\n",
    "    vel_ = msg.twist.twist\n",
    "\n",
    "    t1.append(time_elapsed)\n",
    "    x.append(position_.x)\n",
    "    y.append(position_.y)\n",
    "    vel_lin_cmd.append(Vel_linear)\n",
    "    vel_ang_cmd.append(Vel_angular)\n",
    "    vel_lin_speed.append(vel_.linear.x)\n",
    "    vel_ang_speed.append(vel_.angular.z)\n",
    "    \n",
    "    # yaw\n",
    "    quaternion = (\n",
    "        msg.pose.pose.orientation.x,\n",
    "        msg.pose.pose.orientation.y,\n",
    "        msg.pose.pose.orientation.z,\n",
    "        msg.pose.pose.orientation.w)\n",
    "    euler = transformations.euler_from_quaternion(quaternion)\n",
    "    yaw_ = euler[2]\n",
    "\n",
    "    yaw = normalize_angle(yaw_)\n",
    "    dir_x = math.cos(yaw)\n",
    "    dir_y = math.sin(yaw)\n",
    "\n",
    "def target_clbk(msg):\n",
    "    global finished, interrupted, t, stats\n",
    "    if msg.data == -1:\n",
    "        interrupted += 1\n",
    "        print(\"1\")\n",
    "    else: \n",
    "        finished += 1\n",
    "        print(\"2\")\n",
    "        t.append(msg.data)\n",
    "    print(\"target\")\n",
    "    stats = [finished, interrupted]\n",
    "\n",
    "def Velocity_clbk(msg):\n",
    "    global Vel_linear, Vel_angular\n",
    "    Vel_linear = msg.linear.x\n",
    "    Vel_angular = msg.angular.z\n",
    "\n",
    "\n",
    "Command_Subscriber = rospy.Subscriber('/cmd_vel', Twist, Velocity_clbk)\n",
    "odom_Sub = rospy.Subscriber('/odom', Odometry, clbk_odom)\n",
    "target_Sub = rospy.Subscriber('/target', Float32, target_clbk)\n",
    "\n"
   ]
  },
  {
   "cell_type": "code",
   "execution_count": 8,
   "id": "63630a9a",
   "metadata": {},
   "outputs": [
    {
     "data": {
      "application/vnd.jupyter.widget-view+json": {
       "model_id": "c1ab3b15386c4abca1c1281b0d525d3d",
       "version_major": 2,
       "version_minor": 0
      },
      "text/plain": [
       "Canvas(toolbar=Toolbar(toolitems=[('Home', 'Reset original view', 'home', 'home'), ('Back', 'Back to previous …"
      ]
     },
     "metadata": {},
     "output_type": "display_data"
    },
    {
     "data": {
      "application/vnd.jupyter.widget-view+json": {
       "model_id": "ce573573f4a74472936f49706c5631ad",
       "version_major": 2,
       "version_minor": 0
      },
      "text/plain": [
       "Canvas(toolbar=Toolbar(toolitems=[('Home', 'Reset original view', 'home', 'home'), ('Back', 'Back to previous …"
      ]
     },
     "metadata": {},
     "output_type": "display_data"
    }
   ],
   "source": [
    "figure1,axis1=plt.subplots()\n",
    "axis1.set_ylim((-3,3))\n",
    "#axis1.set_xlim((0,15))\n",
    "linea=axis1.plot([],[],lw=1,color='red',label='Actual Velocity')[0]\n",
    "lineb=axis1.plot([],[],lw=1,color='blue',label='Commanded Velocity')[0]\n",
    "line1,=axis1.plot([],[], lw=1)\n",
    "axis1.legend()\n",
    "axis1.set_title('Linear Velocity')\n",
    "axis1.set_xlabel('Time')\n",
    "axis1.set_ylabel('Meters/Seconds')\n",
    "lines1_vec=[]\n",
    "lines1_vec.append(linea)\n",
    "lines1_vec.append(lineb)\n",
    "\n",
    "figure2,axis2=plt.subplots()\n",
    "axis2.set_ylim((-3,3))\n",
    "#axis2.set_xlim((0,15))\n",
    "linec=axis2.plot([],[],lw=1,color='red',label='Actual Velocity')[0]\n",
    "lined=axis2.plot([],[],lw=1,color='blue',label='Commanded Velocity')[0]\n",
    "line2,=axis2.plot([],[], lw=1)\n",
    "axis2.legend()\n",
    "axis2.set_title('Angular Velocity')\n",
    "axis2.set_xlabel('Time')\n",
    "axis2.set_ylabel('Radiants/Seconds')\n",
    "lines2_vec=[]\n",
    "lines2_vec.append(linec)\n",
    "lines2_vec.append(lined)\n",
    "\n",
    "def initialization1():\n",
    "    line1.set_data([],[])\n",
    "\n",
    "def initialization2():\n",
    "    line2.set_data([],[])\n",
    "\n",
    "def anim1(b):\n",
    "    axis1.set_xlim((time_elapsed-5, time_elapsed+5))\n",
    "    vec_x = [t1, t1]\n",
    "    vec_y = [vel_lin_speed, vel_lin_cmd]\n",
    "\n",
    "    for i,line1 in enumerate(lines1_vec):\n",
    "        line1.set_data(vec_x[i], vec_y[i])\n",
    "    return (lines1_vec)\n",
    "\n",
    "def anim2(a):\n",
    "    axis2.set_xlim((time_elapsed-5, time_elapsed+5))\n",
    "    vec_x = [t1, t1]\n",
    "    vec_y = [vel_ang_speed, vel_ang_cmd]\n",
    "\n",
    "    for j,line2 in enumerate(lines2_vec):\n",
    "        line2.set_data(vec_x[j], vec_y[j])\n",
    "    return (lines2_vec)\n",
    "\n",
    "animation1=animation.FuncAnimation(figure1, anim1, init_func = initialization1, frames=100, interval=100, blit=True)\n",
    "animation2=animation.FuncAnimation(figure2, anim2, init_func = initialization2, frames=100, interval=100, blit=True)\n",
    "\n",
    "\n",
    "\n"
   ]
  },
  {
   "cell_type": "code",
   "execution_count": 9,
   "id": "13f5e226",
   "metadata": {},
   "outputs": [
    {
     "data": {
      "application/vnd.jupyter.widget-view+json": {
       "model_id": "f45f98d6b3e54228adceaa3c0db21482",
       "version_major": 2,
       "version_minor": 0
      },
      "text/plain": [
       "Canvas(toolbar=Toolbar(toolitems=[('Home', 'Reset original view', 'home', 'home'), ('Back', 'Back to previous …"
      ]
     },
     "metadata": {},
     "output_type": "display_data"
    }
   ],
   "source": [
    "figure3,axis3 =  plt.subplots()\n",
    "legend = ['Finished', 'Interrupted']\n",
    "#axis3.bar(legend,stats,color = 'r', width = 0.5)\n",
    "axis3.set_title(\"Finished and Interrupted goal\")\n",
    "\n",
    "def initialization3():\n",
    "    axis3.bar(legend,stats,color = 'r', width = 0.5)\n",
    "\n",
    "def anim3(i):\n",
    "    global axis3\n",
    "    axis3.bar(legend,stats,color = 'r', width = 0.5)\n",
    "\n",
    "animation3=animation.FuncAnimation(figure3, anim3, init_func=initialization3, frames=100, interval=100, blit=True)\n"
   ]
  },
  {
   "cell_type": "code",
   "execution_count": 10,
   "id": "9f39410c",
   "metadata": {},
   "outputs": [
    {
     "data": {
      "application/vnd.jupyter.widget-view+json": {
       "model_id": "1c9a0dad43924418a8b61d387dc0631a",
       "version_major": 2,
       "version_minor": 0
      },
      "text/plain": [
       "Canvas(toolbar=Toolbar(toolitems=[('Home', 'Reset original view', 'home', 'home'), ('Back', 'Back to previous …"
      ]
     },
     "metadata": {},
     "output_type": "display_data"
    }
   ],
   "source": [
    "figure4, axis4 = plt.subplots()\n",
    "#axis4.hist(t, 10, label='Time to reach the goal', color='blue', lw=10)\n",
    "axis4.legend()\n",
    "axis4.set_title(\"Time elapsed before reaching the goal\")\n",
    "axis4.set_xlabel(\"Seconds\")\n",
    "\n",
    "def initialization4():\n",
    "    axis4.hist(t, 10, label='Time to reach the goal', color='blue', lw=10)\n",
    "\n",
    "def anim4(i):\n",
    "    global t, axis4\n",
    "    axis4.hist(t, 10, label='Time to reach the goal', color='blue', lw=10)\n",
    "    \n",
    "animation4 = animation.FuncAnimation(figure4, anim4, init_func=initialization4, frames=100, interval=100, blit=True)\n"
   ]
  },
  {
   "cell_type": "code",
   "execution_count": 11,
   "id": "542818c0",
   "metadata": {},
   "outputs": [
    {
     "data": {
      "application/vnd.jupyter.widget-view+json": {
       "model_id": "98c447ae856b499ea5f9ece9df2684ca",
       "version_major": 2,
       "version_minor": 0
      },
      "text/plain": [
       "Canvas(toolbar=Toolbar(toolitems=[('Home', 'Reset original view', 'home', 'home'), ('Back', 'Back to previous …"
      ]
     },
     "metadata": {},
     "output_type": "display_data"
    },
    {
     "data": {
      "application/vnd.jupyter.widget-view+json": {
       "model_id": "c1f9880dcbe04564831cedfcc4c01311",
       "version_major": 2,
       "version_minor": 0
      },
      "text/plain": [
       "Canvas(toolbar=Toolbar(toolitems=[('Home', 'Reset original view', 'home', 'home'), ('Back', 'Back to previous …"
      ]
     },
     "metadata": {},
     "output_type": "display_data"
    }
   ],
   "source": [
    "figure5, axis5 = plt.subplots()\n",
    "figure6, axis6 = plt.subplots()\n",
    "\n",
    "axis5.set_xlim((-10,10))\n",
    "axis5.set_ylim((-10,10))\n",
    "linee,=axis5.plot([],[], lw=1, color='green', label='Position')\n",
    "axis5.legend()\n",
    "axis5.set_title(\"Position\")\n",
    "#axis6.quiver(0,0,dir_x,dir_y,label=\"Orientation\")\n",
    "#axis6.legend()\n",
    "#axis6.set_title(\"Orientation\")\n",
    "\n",
    "def initialization5():\n",
    "    linee.set_data([],[])\n",
    "\n",
    "def initialization6():\n",
    "    axis6.quiver(0,0,dir_x,dir_y,label=\"Orientation\")\n",
    "\n",
    "def anim5(i):\n",
    "    global x, y\n",
    "    linee.set_data(x,y)\n",
    "    return (linee)\n",
    "\n",
    "def anim6(i):\n",
    "    axis6.clear()\n",
    "    axis6.quiver(0,0,dir_x,dir_y,label=\"Orientation\")\n",
    "    axis6.legend()\n",
    "    axis6.set_title(\"Orientation\")\n",
    "    return(linee)\n",
    "\n",
    "animation5 = animation.FuncAnimation(figure5, anim5, init_func=initialization5, frames=100, interval=100, blit=True)\n",
    "animation6 = animation.FuncAnimation(figure6, anim6, init_func=initialization6, frames=1, interval=100, blit=True)"
   ]
  },
  {
   "cell_type": "code",
   "execution_count": null,
   "id": "8d2e56a0",
   "metadata": {},
   "outputs": [],
   "source": []
  }
 ],
 "metadata": {
  "kernelspec": {
   "display_name": "Python 3 (ipykernel)",
   "language": "python",
   "name": "python3"
  },
  "language_info": {
   "codemirror_mode": {
    "name": "ipython",
    "version": 3
   },
   "file_extension": ".py",
   "mimetype": "text/x-python",
   "name": "python",
   "nbconvert_exporter": "python",
   "pygments_lexer": "ipython3",
   "version": "3.8.5"
  },
  "vscode": {
   "interpreter": {
    "hash": "916dbcbb3f70747c44a77c7bcd40155683ae19c65e1c03b4aa3499c5328201f1"
   }
  }
 },
 "nbformat": 4,
 "nbformat_minor": 5
}
