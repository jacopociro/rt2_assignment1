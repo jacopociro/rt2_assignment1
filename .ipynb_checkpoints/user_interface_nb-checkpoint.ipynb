{
 "cells": [
  {
   "cell_type": "code",
   "execution_count": 5,
   "id": "db415da4",
   "metadata": {},
   "outputs": [],
   "source": [
    "import rospy\n",
    "import time\n",
    "import jupyros as jr\n",
    "import matplotlib\n",
    "import ipywidgets as widgets\n",
    "import matplotlib.pyplot as plt\n",
    "import numpy as np\n",
    "import math\n",
    "import actionlib\n",
    "import actionlib.msg\n",
    "\n",
    "%matplotlib widget\n",
    "\n",
    "from matplotlib.animation import FuncAnimation\n",
    "from nav_msgs.msg import Odometry\n",
    "from matplotlib import animation, rc\n",
    "from std_msgs.msg import String, Float64, Bool, Float32\n",
    "from rt2_assignment1.srv import Command\n",
    "from ipywidgets import interact,interactive,fixed,interact_manual\n",
    "from geometry_msgs.msg import Twist"
   ]
  },
  {
   "cell_type": "code",
   "execution_count": 6,
   "id": "eaa217e7",
   "metadata": {},
   "outputs": [],
   "source": [
    "rospy.init_node('user_interface')\n",
    "client=rospy.ServiceProxy('/user_interface', Command)\n",
    "Vel_Publisher = rospy.Publisher('/vel', Twist, queue_size = 1)\n",
    "Command_Publisher = rospy.Publisher('/cmd_vel', Twist, queue_size = 1)\n",
    "velocity = Twist()\n",
    "speed = Twist()"
   ]
  },
  {
   "cell_type": "code",
   "execution_count": 7,
   "id": "7b73fa2d",
   "metadata": {},
   "outputs": [],
   "source": [
    "def Random_start(r):\n",
    "    global random_behaviour\n",
    "    random_behaviour = True\n",
    "    client('start')\n",
    "\n",
    "def Random_stop(r):\n",
    "    global random_behaviour\n",
    "    random_behaviour = False\n",
    "    client('stop')\n",
    "\n",
    "def Onwards(t):\n",
    "    global random_behaviour, speed, velocity\n",
    "    if random_behaviour:\n",
    "        random_behaviour = False\n",
    "        client('stop')\n",
    "    Stop(1)\n",
    "    velocity.linear.x = speed.linear.x\n",
    "\n",
    "    Command_Publisher.publish(velocity)\n",
    "    \n",
    "def Backwards(t):\n",
    "    global random_behaviour, speed, velocity\n",
    "    if random_behaviour:\n",
    "        random_behaviour = False\n",
    "        client('stop')\n",
    "    Stop(1)\n",
    "    velocity.linear.x = - speed.linear.x\n",
    "\n",
    "    Command_Publisher.publish(velocity)\n",
    "\n",
    "def leftwards(t):\n",
    "    global random_behaviour, speed, velocity\n",
    "    if random_behaviour:\n",
    "        random_behaviour = False\n",
    "        client('stop')\n",
    "    Stop(1)\n",
    "    velocity.angular.z = - speed.angular.z\n",
    "\n",
    "    Command_Publisher.publish(velocity)\n",
    "\n",
    "def rightwards(t):\n",
    "    global random_behaviour, speed, velocity\n",
    "    if random_behaviour:\n",
    "        random_behaviour = False\n",
    "        client('stop')\n",
    "    Stop(1)\n",
    "    velocity.angular.z = speed.angular.z\n",
    "\n",
    "    Command_Publisher.publish(velocity)\n",
    "\n",
    "def Stop(s):\n",
    "    velocity.linear.x = 0\n",
    "    velocity.angular.z = 0\n",
    "    Command_Publisher(velocity)\n",
    "\n",
    "def Set_Linear_Velocity(vel):\n",
    "    global speed\n",
    "    speed.linear.x = vel\n",
    "    Vel_Publisher.publish(speed)\n",
    "    return vel\n",
    "\n",
    "def Set_Angular_Velocity(vel):\n",
    "    global speed\n",
    "    speed.angular.z = vel\n",
    "    Vel_Publisher.publish(speed)\n",
    "    return vel"
   ]
  },
  {
   "cell_type": "code",
   "execution_count": 19,
   "id": "198adcc6",
   "metadata": {},
   "outputs": [],
   "source": [
    "Button_rand_go=widgets.Button(\n",
    "    description='Start Random Behaviour',\n",
    "    style=widgets.ButtonStyle(button_color='blue'),\n",
    "    layout=widgets.Layout(width='auto', grid_area='but_rand_go')\n",
    ")\n",
    "\n",
    "Button_rand_stop=widgets.Button(\n",
    "    description='Stop Random Behaviour',\n",
    "    style=widgets.ButtonStyle(button_color='purple'),\n",
    "    layout=widgets.Layout(width='auto', grid_area='but_rand_stop')\n",
    ")\n",
    "\n",
    "Button_onwards=widgets.Button(\n",
    "    description='Moving Onwards',\n",
    "    style=widgets.ButtonStyle(button_color='pink'),\n",
    "    layout=widgets.Layout(width='auto', grid_area='but_onwards')\n",
    ")\n",
    "\n",
    "Button_backwards=widgets.Button(\n",
    "    description='Moving Backwards',\n",
    "    style=widgets.ButtonStyle(button_color='pink'),\n",
    "    layout=widgets.Layout(width='auto', grid_area='but_backwards')\n",
    ")\n",
    "\n",
    "Button_Leftwards=widgets.Button(\n",
    "    description='Moving Left',\n",
    "    style=widgets.ButtonStyle(button_color='pink'),\n",
    "    layout=widgets.Layout(width='auto', grid_area='but_left')\n",
    ")\n",
    "\n",
    "Button_Rightwards=widgets.Button(\n",
    "    description='Moving right',\n",
    "    style=widgets.ButtonStyle(button_color='pink'),\n",
    "    layout=widgets.Layout(width='auto', grid_area='but_right')\n",
    ")\n",
    "\n",
    "Button_stop=widgets.Button(\n",
    "    description='Stop',\n",
    "    style=widgets.ButtonStyle(button_color='red'),\n",
    "    layout=widgets.Layout(width='auto', grid_area='but_stop')\n",
    ")\n"
   ]
  },
  {
   "cell_type": "code",
   "execution_count": 20,
   "id": "e6983a62",
   "metadata": {},
   "outputs": [],
   "source": [
    "Button_rand_go.on_click(Random_start)\n",
    "Button_rand_stop.on_click(Random_stop)\n",
    "Button_onwards.on_click(Onwards)\n",
    "Button_backwards.on_click(Backwards)\n",
    "Button_Leftwards.on_click(leftwards)\n",
    "Button_Rightwards.on_click(rightwards)\n",
    "Button_stop.on_click(Stop)"
   ]
  },
  {
   "cell_type": "code",
   "execution_count": 21,
   "id": "65b8341b",
   "metadata": {},
   "outputs": [
    {
     "name": "stdout",
     "output_type": "stream",
     "text": [
      "Linear Velocity Value\n"
     ]
    },
    {
     "data": {
      "application/vnd.jupyter.widget-view+json": {
       "model_id": "c8b898d6f22e408297504dfd7e1f0d8b",
       "version_major": 2,
       "version_minor": 0
      },
      "text/plain": [
       "interactive(children=(FloatSlider(value=0.5, description='vel', max=1.0, step=0.01), Output()), _dom_classes=(…"
      ]
     },
     "metadata": {},
     "output_type": "display_data"
    },
    {
     "name": "stdout",
     "output_type": "stream",
     "text": [
      "Angular Velocity Value\n"
     ]
    },
    {
     "data": {
      "application/vnd.jupyter.widget-view+json": {
       "model_id": "1c9c056e02fc4a3695e18f3c9bd96d5b",
       "version_major": 2,
       "version_minor": 0
      },
      "text/plain": [
       "interactive(children=(FloatSlider(value=0.5, description='vel', max=1.0, step=0.01), Output()), _dom_classes=(…"
      ]
     },
     "metadata": {},
     "output_type": "display_data"
    },
    {
     "data": {
      "application/vnd.jupyter.widget-view+json": {
       "model_id": "d5c15e418cbd4b5ab6e10a93ac6cd9bc",
       "version_major": 2,
       "version_minor": 0
      },
      "text/plain": [
       "GridBox(children=(Button(description='Start Random Behaviour', layout=Layout(grid_area='but_rand_go', width='a…"
      ]
     },
     "metadata": {},
     "output_type": "display_data"
    }
   ],
   "source": [
    "print(\"Linear Velocity Value\")\n",
    "interact(Set_Linear_Velocity, vel =widgets.FloatSlider(min=0.0, max=1.0, step=0.01, value=0.5))\n",
    "\n",
    "print(\"Angular Velocity Value\")\n",
    "interact(Set_Angular_Velocity, vel =widgets.FloatSlider(min=0.0, max=1.0, step=0.01, value=0.5))\n",
    "\n",
    "widgets.GridBox(children=[Button_rand_go, Button_rand_stop, Button_onwards, Button_backwards, Button_Leftwards, Button_Rightwards, Button_stop],\n",
    "                layout=widgets.Layout(width='80%',grid_template_rows='auto auto auto',\n",
    "                grid_template_columns='16% 16% 16% 16% 16% 16% ',\n",
    "                grid_template_areas='''\". . . but_stop  . .\"\"but_rand_go but_rand_stop . . but_onwards . \"\" . .  . but_left but_backwards but_right \"''')\n",
    "               )"
   ]
  },
  {
   "cell_type": "code",
   "execution_count": null,
   "id": "1d231241",
   "metadata": {},
   "outputs": [],
   "source": []
  }
 ],
 "metadata": {
  "kernelspec": {
   "display_name": "Python 3 (ipykernel)",
   "language": "python",
   "name": "python3"
  },
  "language_info": {
   "codemirror_mode": {
    "name": "ipython",
    "version": 3
   },
   "file_extension": ".py",
   "mimetype": "text/x-python",
   "name": "python",
   "nbconvert_exporter": "python",
   "pygments_lexer": "ipython3",
   "version": "3.8.5"
  },
  "vscode": {
   "interpreter": {
    "hash": "916dbcbb3f70747c44a77c7bcd40155683ae19c65e1c03b4aa3499c5328201f1"
   }
  }
 },
 "nbformat": 4,
 "nbformat_minor": 5
}
